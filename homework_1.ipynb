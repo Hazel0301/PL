{
 "cells": [
  {
   "cell_type": "code",
   "execution_count": 7,
   "id": "32aad8a2",
   "metadata": {},
   "outputs": [],
   "source": [
    "import pandas as pd\n",
    "import seaborn as sns\n",
    "\n",
    "#read csv file\n",
    "customer_data = pd.read_csv(\"hw_1_customers.csv\")"
   ]
  },
  {
   "cell_type": "code",
   "execution_count": 8,
   "id": "cfb33b5b",
   "metadata": {},
   "outputs": [
    {
     "name": "stdout",
     "output_type": "stream",
     "text": [
      "<class 'pandas.core.frame.DataFrame'>\n",
      "RangeIndex: 2000 entries, 0 to 1999\n",
      "Data columns (total 8 columns):\n",
      " #   Column                  Non-Null Count  Dtype \n",
      "---  ------                  --------------  ----- \n",
      " 0   CustomerID              2000 non-null   int64 \n",
      " 1   Gender                  2000 non-null   object\n",
      " 2   Age                     2000 non-null   int64 \n",
      " 3   Annual Income ($)       2000 non-null   int64 \n",
      " 4   Spending Score (1-100)  2000 non-null   int64 \n",
      " 5   Profession              1965 non-null   object\n",
      " 6   Work Experience         2000 non-null   int64 \n",
      " 7   Family Size             2000 non-null   int64 \n",
      "dtypes: int64(6), object(2)\n",
      "memory usage: 125.1+ KB\n"
     ]
    }
   ],
   "source": [
    "#Info of the Customer Dataset\n",
    "customer_data.info()"
   ]
  },
  {
   "cell_type": "code",
   "execution_count": 9,
   "id": "fbeb5a72",
   "metadata": {},
   "outputs": [
    {
     "name": "stdout",
     "output_type": "stream",
     "text": [
      "      CustomerID  Gender  Age  Annual Income ($)  Spending Score (1-100)  \\\n",
      "0              1    Male   19              15000                      39   \n",
      "1              2    Male   21              35000                      81   \n",
      "2              3  Female   20              86000                       6   \n",
      "3              4  Female   23              59000                      77   \n",
      "4              5  Female   31              38000                      40   \n",
      "...          ...     ...  ...                ...                     ...   \n",
      "1995        1996  Female   71             184387                      40   \n",
      "1996        1997  Female   91              73158                      32   \n",
      "1997        1998    Male   87              90961                      14   \n",
      "1998        1999    Male   77             182109                       4   \n",
      "1999        2000    Male   90             110610                      52   \n",
      "\n",
      "         Profession  Work Experience  Family Size  \n",
      "0        Healthcare                1            4  \n",
      "1          Engineer                3            3  \n",
      "2          Engineer                1            1  \n",
      "3            Lawyer                0            2  \n",
      "4     Entertainment                2            6  \n",
      "...             ...              ...          ...  \n",
      "1995         Artist                8            7  \n",
      "1996         Doctor                7            7  \n",
      "1997     Healthcare                9            2  \n",
      "1998      Executive                7            2  \n",
      "1999  Entertainment                5            2  \n",
      "\n",
      "[2000 rows x 8 columns]\n"
     ]
    }
   ],
   "source": [
    "print(customer_data)"
   ]
  },
  {
   "cell_type": "code",
   "execution_count": 11,
   "id": "e0250f71",
   "metadata": {},
   "outputs": [
    {
     "name": "stdout",
     "output_type": "stream",
     "text": [
      "Male:  814\n",
      "Female:  1186\n"
     ]
    }
   ],
   "source": [
    "#take gender data\n",
    "gender_data = pd.DataFrame(customer_data[\"Gender\"])\n",
    "\n",
    "#count Male/Female\n",
    "#by caculate frequency of data multiple data length\n",
    "count_Male = gender_data.value_counts(normalize=True)[\"Male\"] * len(gender_data)\n",
    "count_Female = gender_data.value_counts(normalize=True)[\"Female\"] * len(gender_data)\n",
    "\n",
    "#print\n",
    "print(\"Male: \",round(count_Male))\n",
    "print(\"Female: \",round(count_Female))"
   ]
  },
  {
   "cell_type": "code",
   "execution_count": 18,
   "id": "f378964e",
   "metadata": {},
   "outputs": [
    {
     "name": "stdout",
     "output_type": "stream",
     "text": [
      "Profession Total Number, Average and Maximum Income :\n",
      "               count      mean     max\n",
      "Profession                            \n",
      "Artist           612  108777.0  189709\n",
      "Doctor           161  111573.0  189672\n",
      "Engineer         179  111161.0  189974\n",
      "Entertainment    234  110650.0  186882\n",
      "Executive        153  113770.0  189630\n",
      "Healthcare       339  112574.0  189689\n",
      "Homemaker         60  108759.0  188696\n",
      "Lawyer           142  110996.0  189650\n",
      "Marketing         85  107994.0  186069\n"
     ]
    }
   ],
   "source": [
    "#group by Profession\n",
    "group_Profession = customer_data.groupby('Profession')\n",
    "#count the average/maximum of every Prefession\n",
    "Income_result = group_Profession['Annual Income ($)'].agg(['count','mean','max'])\n",
    "print(\"Profession Total Number, Average and Maximum Income :\")\n",
    "print(round(Income_result))"
   ]
  },
  {
   "cell_type": "code",
   "execution_count": 20,
   "id": "ab279e63",
   "metadata": {},
   "outputs": [
    {
     "name": "stdout",
     "output_type": "stream",
     "text": [
      "Profession Average and Maximum Spend :\n",
      "               mean  max\n",
      "Profession              \n",
      "Artist         53.0  100\n",
      "Doctor         52.0  100\n",
      "Engineer       49.0   99\n",
      "Entertainment  53.0  100\n",
      "Executive      50.0   98\n",
      "Healthcare     51.0  100\n",
      "Homemaker      46.0  100\n",
      "Lawyer         49.0  100\n",
      "Marketing      49.0  100\n",
      "Profession Average and Maximum Family Size :\n",
      "               mean  max\n",
      "Profession              \n",
      "Artist          4.0    8\n",
      "Doctor          4.0    7\n",
      "Engineer        4.0    8\n",
      "Entertainment   4.0    7\n",
      "Executive       4.0    7\n",
      "Healthcare      4.0    8\n",
      "Homemaker       4.0    7\n",
      "Lawyer          4.0    9\n",
      "Marketing       4.0    7\n"
     ]
    }
   ],
   "source": [
    "group_Profession = customer_data.groupby('Profession')\n",
    "Income_result_Spend = group_Profession['Spending Score (1-100)'].agg(['mean','max'])\n",
    "Income_result_FamiSize = group_Profession['Family Size'].agg(['mean','max'])\n",
    "print(\"Profession Average and Maximum Spend :\")\n",
    "print(round(Income_result_Spend))\n",
    "print(\"Profession Average and Maximum Family Size :\")\n",
    "print(round(Income_result_FamiSize))"
   ]
  },
  {
   "cell_type": "code",
   "execution_count": null,
   "id": "c3d0f885",
   "metadata": {},
   "outputs": [],
   "source": []
  }
 ],
 "metadata": {
  "kernelspec": {
   "display_name": "Python 3 (ipykernel)",
   "language": "python",
   "name": "python3"
  },
  "language_info": {
   "codemirror_mode": {
    "name": "ipython",
    "version": 3
   },
   "file_extension": ".py",
   "mimetype": "text/x-python",
   "name": "python",
   "nbconvert_exporter": "python",
   "pygments_lexer": "ipython3",
   "version": "3.9.13"
  }
 },
 "nbformat": 4,
 "nbformat_minor": 5
}
