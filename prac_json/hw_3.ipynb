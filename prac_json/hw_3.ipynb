{
 "cells": [
  {
   "cell_type": "code",
   "execution_count": 5,
   "id": "610cf2ce",
   "metadata": {},
   "outputs": [],
   "source": [
    "import json"
   ]
  },
  {
   "cell_type": "code",
   "execution_count": 6,
   "id": "10ffe272",
   "metadata": {},
   "outputs": [
    {
     "data": {
      "text/plain": [
       "dict"
      ]
     },
     "execution_count": 6,
     "metadata": {},
     "output_type": "execute_result"
    }
   ],
   "source": [
    "Open_File = open('hw_2_北部人口密度.json',encoding=\"utf8\")\n",
    "Population_Density = json.load(Open_File)\n",
    "type(Population_Density)"
   ]
  },
  {
   "cell_type": "code",
   "execution_count": 7,
   "id": "c914dc9b",
   "metadata": {},
   "outputs": [],
   "source": [
    "Population_Density.items()\n",
    "\n",
    "#catch the population density data of three city\n",
    "field = Population_Density.get('DistrictDataInfo')"
   ]
  },
  {
   "cell_type": "markdown",
   "id": "d9b46bb9",
   "metadata": {},
   "source": [
    "## 北北基資料分開儲存"
   ]
  },
  {
   "cell_type": "code",
   "execution_count": 8,
   "id": "ac7a43f6",
   "metadata": {},
   "outputs": [],
   "source": [
    "for i in field :\n",
    "    NTP = i.get('新北市')#取新北市資料\n",
    "for i in field :\n",
    "    TPE = i.get('臺北市')#取臺北市資料\n",
    "for i in field :\n",
    "    KL = i.get('基隆市')#取基隆市資料"
   ]
  },
  {
   "cell_type": "markdown",
   "id": "2201f18d",
   "metadata": {},
   "source": [
    "## 使用者居住地資料查詢"
   ]
  },
  {
   "cell_type": "code",
   "execution_count": 9,
   "id": "bbb119bc",
   "metadata": {},
   "outputs": [
    {
     "name": "stdout",
     "output_type": "stream",
     "text": [
      "Key in the city abbreviation (NTP, TPE, or KL): NTP\n"
     ]
    }
   ],
   "source": [
    "usercity = input(\"Key in the city abbreviation (NTP, TPE, or KL): \")\n",
    "#詢問使用者居住縣市"
   ]
  },
  {
   "cell_type": "code",
   "execution_count": 10,
   "id": "52e6d9bc",
   "metadata": {},
   "outputs": [
    {
     "name": "stdout",
     "output_type": "stream",
     "text": [
      "Key in the Postal Code (three codes): 236\n"
     ]
    }
   ],
   "source": [
    "userdist = input(\"Key in the Postal Code (three codes): \")\n",
    "#詢問使用者居住地 郵遞區號查詢"
   ]
  },
  {
   "cell_type": "code",
   "execution_count": 15,
   "id": "c6785c22",
   "metadata": {},
   "outputs": [
    {
     "name": "stdout",
     "output_type": "stream",
     "text": [
      "City: New Taipei City\n",
      "Postal Code: 236\n",
      "District: 土城區\n",
      "Area: 29.5578\n",
      "Popularity: 238067\n",
      "Density: 8054\n",
      "ERROR: City and District Number Unfound.\n"
     ]
    }
   ],
   "source": [
    "#找出使用者居住地數據\n",
    "if usercity == \"NTP\":\n",
    "    print(\"City: New Taipei City\")\n",
    "    for i in NTP:\n",
    "        if userdist == i.get(\"dist_num\"): \n",
    "            print(\"Postal Code:\", i.get('dist_num'))\n",
    "            print(\"District:\", i.get('site_id'))\n",
    "            print(\"Area:\", i.get('area'))\n",
    "            print(\"Popularity:\", i.get('people_total'))\n",
    "            print(\"Density:\", i.get('population_density'))\n",
    "if usercity == \"TPE\":\n",
    "    print(\"City: Taipei City\")\n",
    "    for i in TPE:\n",
    "        if userdist == i.get(\"dist_num\"): \n",
    "            print(\"Postal Code:\", i.get('dist_num'))\n",
    "            print(\"District:\", i.get('site_id'))\n",
    "            print(\"Area:\", i.get('area'))\n",
    "            print(\"Popularity:\", i.get('people_total'))\n",
    "            print(\"Density:\", i.get('population_density'))\n",
    "if usercity == \"KL\":\n",
    "    print(\"City: Keelung City\")\n",
    "    for i in KL:\n",
    "        if userdist == i.get(\"dist_num\"): \n",
    "            print(\"Postal Code:\", i.get('dist_num'))\n",
    "            print(\"District:\", i.get('site_id'))\n",
    "            print(\"Area\", i.get('area'))\n",
    "            print(\"Popularity:\", i.get('people_total'))\n",
    "            print(\"Density:\", i.get('population_density'))\n",
    "else:\n",
    "    print(\"ERROR: City and District Number Unfound.\")"
   ]
  },
  {
   "cell_type": "markdown",
   "id": "fb625fd7",
   "metadata": {},
   "source": [
    "## 取所選縣市 郵遞區號及對應行政區"
   ]
  },
  {
   "cell_type": "code",
   "execution_count": 20,
   "id": "1bdab633",
   "metadata": {},
   "outputs": [
    {
     "name": "stdout",
     "output_type": "stream",
     "text": [
      "Key in the city abbreviation (NTP, TPE, or KL): KL\n"
     ]
    }
   ],
   "source": [
    "selectedcity = input(\"Key in the city abbreviation (NTP, TPE, or KL): \")\n",
    "#詢問使用者居住縣市"
   ]
  },
  {
   "cell_type": "code",
   "execution_count": 21,
   "id": "272b5826",
   "metadata": {},
   "outputs": [
    {
     "name": "stdout",
     "output_type": "stream",
     "text": [
      "City: Keelung City\n",
      "\n",
      "202 中正區\n",
      "206 七堵區\n",
      "205 暖暖區\n",
      "200 仁愛區\n",
      "203 中山區\n",
      "204 安樂區\n",
      "201 信義區\n"
     ]
    }
   ],
   "source": [
    "if selectedcity == \"NTP\":\n",
    "    print(\"City: New Taipei City\\n\")\n",
    "    for i in NTP :\n",
    "        print(i.get('dist_num'), i.get('site_id'))\n",
    "\n",
    "if selectedcity == \"TPE\":\n",
    "    print(\"City: Taipei City\\n\")\n",
    "    for i in TPE :\n",
    "        print(i.get('dist_num'), i.get('site_id'))\n",
    "\n",
    "if selectedcity == \"KL\":\n",
    "    print(\"City: Keelung City\\n\")\n",
    "    for i in KL :\n",
    "        print(i.get('dist_num'), i.get('site_id'))"
   ]
  },
  {
   "cell_type": "markdown",
   "id": "3fb6de19",
   "metadata": {},
   "source": [
    "## 取三區土地面積、人口數、人口密度 最大值、最小值"
   ]
  },
  {
   "cell_type": "code",
   "execution_count": null,
   "id": "f28a5255",
   "metadata": {},
   "outputs": [],
   "source": [
    "max_rec = 0\n",
    "nim_rec = 0\n",
    "for i in NTP:   \n",
    "    if (i.get(\"RW\")) >= 21:\n",
    "        max_rec = i.get('people_total')#人數最大"
   ]
  }
 ],
 "metadata": {
  "kernelspec": {
   "display_name": "Python 3 (ipykernel)",
   "language": "python",
   "name": "python3"
  },
  "language_info": {
   "codemirror_mode": {
    "name": "ipython",
    "version": 3
   },
   "file_extension": ".py",
   "mimetype": "text/x-python",
   "name": "python",
   "nbconvert_exporter": "python",
   "pygments_lexer": "ipython3",
   "version": "3.9.13"
  }
 },
 "nbformat": 4,
 "nbformat_minor": 5
}
