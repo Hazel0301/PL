{
 "cells": [
  {
   "cell_type": "code",
   "execution_count": 7,
   "id": "610cf2ce",
   "metadata": {},
   "outputs": [],
   "source": [
    "import json"
   ]
  },
  {
   "cell_type": "code",
   "execution_count": 8,
   "id": "9dc53097",
   "metadata": {},
   "outputs": [
    {
     "data": {
      "text/plain": [
       "dict"
      ]
     },
     "execution_count": 8,
     "metadata": {},
     "output_type": "execute_result"
    }
   ],
   "source": [
    "Open_File = open('hw_2_北部人口密度.json',encoding=\"utf8\")\n",
    "Population_Density = json.load(Open_File)\n",
    "type(Population_Density)"
   ]
  },
  {
   "cell_type": "code",
   "execution_count": 28,
   "id": "c914dc9b",
   "metadata": {},
   "outputs": [],
   "source": [
    "Population_Density.items()\n",
    "\n",
    "#catch the population density data of three city\n",
    "field = Population_Density.get('DistrictDataInfo')"
   ]
  },
  {
   "cell_type": "code",
   "execution_count": 44,
   "id": "f5dcc8ff",
   "metadata": {},
   "outputs": [],
   "source": [
    "for i in field :\n",
    "    NTP = i.get('新北市')#取新北市資料\n",
    "for i in field :\n",
    "    TPE = i.get('臺北市')#取臺北市資料\n",
    "for i in field :\n",
    "    KL = i.get('基隆市')#取基隆市資料"
   ]
  },
  {
   "cell_type": "code",
   "execution_count": 54,
   "id": "52e6d9bc",
   "metadata": {},
   "outputs": [
    {
     "name": "stdout",
     "output_type": "stream",
     "text": [
      "Key in the District Number (three codes): 236\n"
     ]
    }
   ],
   "source": [
    "userdist = input(\"Key in the District Number (three codes): \")\n",
    "#詢問使用者居住地 郵遞區號查詢\n",
    "\n",
    "#userdist = \"236\""
   ]
  },
  {
   "cell_type": "code",
   "execution_count": 55,
   "id": "c6785c22",
   "metadata": {},
   "outputs": [
    {
     "name": "stdout",
     "output_type": "stream",
     "text": [
      "District Number: 236\n",
      "District: 土城區\n",
      "Area Size: 29.5578\n",
      "Popularity: 238067\n",
      "Popularity Density: 8054\n"
     ]
    }
   ],
   "source": [
    "print(\"District Number:\",userdist)\n",
    "for i in NTP:\n",
    "    if userdist == i.get(\"dist_num\"):  \n",
    "        print(\"District:\", i.get('site_id'))\n",
    "        print(\"Area Size:\", i.get('area'))\n",
    "        print(\"Popularity:\", i.get('people_total'))\n",
    "        print(\"Popularity Density:\", i.get('population_density'))\n",
    "#找出使用者居住地數據"
   ]
  },
  {
   "cell_type": "code",
   "execution_count": null,
   "id": "fba916f8",
   "metadata": {},
   "outputs": [],
   "source": []
  }
 ],
 "metadata": {
  "kernelspec": {
   "display_name": "Python 3 (ipykernel)",
   "language": "python",
   "name": "python3"
  },
  "language_info": {
   "codemirror_mode": {
    "name": "ipython",
    "version": 3
   },
   "file_extension": ".py",
   "mimetype": "text/x-python",
   "name": "python",
   "nbconvert_exporter": "python",
   "pygments_lexer": "ipython3",
   "version": "3.9.13"
  }
 },
 "nbformat": 4,
 "nbformat_minor": 5
}
