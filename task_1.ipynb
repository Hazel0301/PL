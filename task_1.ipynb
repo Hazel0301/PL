{
 "cells": [
  {
   "cell_type": "code",
   "execution_count": 1,
   "id": "877a3204",
   "metadata": {},
   "outputs": [],
   "source": [
    "import pandas as pd\n",
    "#read csv file\n",
    "student_score_data = pd.read_csv(\"task_1_reference_data.csv\",index_col=\"Unnamed: 0\")\n",
    "#index_col設定索引值列"
   ]
  },
  {
   "cell_type": "code",
   "execution_count": 2,
   "id": "6ac37aab",
   "metadata": {},
   "outputs": [
    {
     "data": {
      "text/html": [
       "<div>\n",
       "<style scoped>\n",
       "    .dataframe tbody tr th:only-of-type {\n",
       "        vertical-align: middle;\n",
       "    }\n",
       "\n",
       "    .dataframe tbody tr th {\n",
       "        vertical-align: top;\n",
       "    }\n",
       "\n",
       "    .dataframe thead th {\n",
       "        text-align: right;\n",
       "    }\n",
       "</style>\n",
       "<table border=\"1\" class=\"dataframe\">\n",
       "  <thead>\n",
       "    <tr style=\"text-align: right;\">\n",
       "      <th></th>\n",
       "      <th>實作</th>\n",
       "      <th>考試</th>\n",
       "      <th>學習單</th>\n",
       "      <th>平時成績</th>\n",
       "      <th>總成績</th>\n",
       "    </tr>\n",
       "  </thead>\n",
       "  <tbody>\n",
       "    <tr>\n",
       "      <th>1</th>\n",
       "      <td>0</td>\n",
       "      <td>0</td>\n",
       "      <td>0</td>\n",
       "      <td>60</td>\n",
       "      <td>0.0</td>\n",
       "    </tr>\n",
       "    <tr>\n",
       "      <th>2</th>\n",
       "      <td>0</td>\n",
       "      <td>65</td>\n",
       "      <td>0</td>\n",
       "      <td>75</td>\n",
       "      <td>16.3</td>\n",
       "    </tr>\n",
       "    <tr>\n",
       "      <th>3</th>\n",
       "      <td>85</td>\n",
       "      <td>0</td>\n",
       "      <td>75</td>\n",
       "      <td>85</td>\n",
       "      <td>59.8</td>\n",
       "    </tr>\n",
       "    <tr>\n",
       "      <th>4</th>\n",
       "      <td>93</td>\n",
       "      <td>83</td>\n",
       "      <td>95</td>\n",
       "      <td>98</td>\n",
       "      <td>91.3</td>\n",
       "    </tr>\n",
       "    <tr>\n",
       "      <th>5</th>\n",
       "      <td>94</td>\n",
       "      <td>0</td>\n",
       "      <td>95</td>\n",
       "      <td>85</td>\n",
       "      <td>70.9</td>\n",
       "    </tr>\n",
       "    <tr>\n",
       "      <th>6</th>\n",
       "      <td>0</td>\n",
       "      <td>0</td>\n",
       "      <td>0</td>\n",
       "      <td>60</td>\n",
       "      <td>0.0</td>\n",
       "    </tr>\n",
       "    <tr>\n",
       "      <th>7</th>\n",
       "      <td>0</td>\n",
       "      <td>0</td>\n",
       "      <td>0</td>\n",
       "      <td>60</td>\n",
       "      <td>0.0</td>\n",
       "    </tr>\n",
       "    <tr>\n",
       "      <th>8</th>\n",
       "      <td>0</td>\n",
       "      <td>78</td>\n",
       "      <td>60</td>\n",
       "      <td>85</td>\n",
       "      <td>43.5</td>\n",
       "    </tr>\n",
       "    <tr>\n",
       "      <th>9</th>\n",
       "      <td>100</td>\n",
       "      <td>75</td>\n",
       "      <td>70</td>\n",
       "      <td>98</td>\n",
       "      <td>81.8</td>\n",
       "    </tr>\n",
       "    <tr>\n",
       "      <th>10</th>\n",
       "      <td>94</td>\n",
       "      <td>0</td>\n",
       "      <td>0</td>\n",
       "      <td>75</td>\n",
       "      <td>32.9</td>\n",
       "    </tr>\n",
       "    <tr>\n",
       "      <th>11</th>\n",
       "      <td>0</td>\n",
       "      <td>0</td>\n",
       "      <td>0</td>\n",
       "      <td>60</td>\n",
       "      <td>0.0</td>\n",
       "    </tr>\n",
       "    <tr>\n",
       "      <th>12</th>\n",
       "      <td>100</td>\n",
       "      <td>0</td>\n",
       "      <td>0</td>\n",
       "      <td>75</td>\n",
       "      <td>35.0</td>\n",
       "    </tr>\n",
       "    <tr>\n",
       "      <th>13</th>\n",
       "      <td>95</td>\n",
       "      <td>73</td>\n",
       "      <td>70</td>\n",
       "      <td>98</td>\n",
       "      <td>79.5</td>\n",
       "    </tr>\n",
       "    <tr>\n",
       "      <th>14</th>\n",
       "      <td>93</td>\n",
       "      <td>78</td>\n",
       "      <td>94</td>\n",
       "      <td>98</td>\n",
       "      <td>89.7</td>\n",
       "    </tr>\n",
       "    <tr>\n",
       "      <th>15</th>\n",
       "      <td>91</td>\n",
       "      <td>75</td>\n",
       "      <td>95</td>\n",
       "      <td>98</td>\n",
       "      <td>88.6</td>\n",
       "    </tr>\n",
       "    <tr>\n",
       "      <th>16</th>\n",
       "      <td>0</td>\n",
       "      <td>0</td>\n",
       "      <td>0</td>\n",
       "      <td>60</td>\n",
       "      <td>0.0</td>\n",
       "    </tr>\n",
       "    <tr>\n",
       "      <th>17</th>\n",
       "      <td>93</td>\n",
       "      <td>75</td>\n",
       "      <td>65</td>\n",
       "      <td>98</td>\n",
       "      <td>77.3</td>\n",
       "    </tr>\n",
       "    <tr>\n",
       "      <th>18</th>\n",
       "      <td>96</td>\n",
       "      <td>80</td>\n",
       "      <td>94</td>\n",
       "      <td>98</td>\n",
       "      <td>91.2</td>\n",
       "    </tr>\n",
       "    <tr>\n",
       "      <th>19</th>\n",
       "      <td>97</td>\n",
       "      <td>88</td>\n",
       "      <td>94</td>\n",
       "      <td>98</td>\n",
       "      <td>93.6</td>\n",
       "    </tr>\n",
       "    <tr>\n",
       "      <th>20</th>\n",
       "      <td>93</td>\n",
       "      <td>88</td>\n",
       "      <td>96</td>\n",
       "      <td>98</td>\n",
       "      <td>93.0</td>\n",
       "    </tr>\n",
       "    <tr>\n",
       "      <th>21</th>\n",
       "      <td>95</td>\n",
       "      <td>68</td>\n",
       "      <td>0</td>\n",
       "      <td>85</td>\n",
       "      <td>50.3</td>\n",
       "    </tr>\n",
       "    <tr>\n",
       "      <th>22</th>\n",
       "      <td>94</td>\n",
       "      <td>85</td>\n",
       "      <td>95</td>\n",
       "      <td>98</td>\n",
       "      <td>92.2</td>\n",
       "    </tr>\n",
       "    <tr>\n",
       "      <th>23</th>\n",
       "      <td>95</td>\n",
       "      <td>80</td>\n",
       "      <td>96</td>\n",
       "      <td>98</td>\n",
       "      <td>91.7</td>\n",
       "    </tr>\n",
       "    <tr>\n",
       "      <th>24</th>\n",
       "      <td>0</td>\n",
       "      <td>75</td>\n",
       "      <td>82</td>\n",
       "      <td>85</td>\n",
       "      <td>51.6</td>\n",
       "    </tr>\n",
       "    <tr>\n",
       "      <th>25</th>\n",
       "      <td>99</td>\n",
       "      <td>85</td>\n",
       "      <td>65</td>\n",
       "      <td>98</td>\n",
       "      <td>81.9</td>\n",
       "    </tr>\n",
       "    <tr>\n",
       "      <th>26</th>\n",
       "      <td>94</td>\n",
       "      <td>95</td>\n",
       "      <td>97</td>\n",
       "      <td>98</td>\n",
       "      <td>95.5</td>\n",
       "    </tr>\n",
       "  </tbody>\n",
       "</table>\n",
       "</div>"
      ],
      "text/plain": [
       "     實作  考試  學習單  平時成績   總成績\n",
       "1     0   0    0    60   0.0\n",
       "2     0  65    0    75  16.3\n",
       "3    85   0   75    85  59.8\n",
       "4    93  83   95    98  91.3\n",
       "5    94   0   95    85  70.9\n",
       "6     0   0    0    60   0.0\n",
       "7     0   0    0    60   0.0\n",
       "8     0  78   60    85  43.5\n",
       "9   100  75   70    98  81.8\n",
       "10   94   0    0    75  32.9\n",
       "11    0   0    0    60   0.0\n",
       "12  100   0    0    75  35.0\n",
       "13   95  73   70    98  79.5\n",
       "14   93  78   94    98  89.7\n",
       "15   91  75   95    98  88.6\n",
       "16    0   0    0    60   0.0\n",
       "17   93  75   65    98  77.3\n",
       "18   96  80   94    98  91.2\n",
       "19   97  88   94    98  93.6\n",
       "20   93  88   96    98  93.0\n",
       "21   95  68    0    85  50.3\n",
       "22   94  85   95    98  92.2\n",
       "23   95  80   96    98  91.7\n",
       "24    0  75   82    85  51.6\n",
       "25   99  85   65    98  81.9\n",
       "26   94  95   97    98  95.5"
      ]
     },
     "execution_count": 2,
     "metadata": {},
     "output_type": "execute_result"
    }
   ],
   "source": [
    "student_score_data"
   ]
  },
  {
   "cell_type": "code",
   "execution_count": 4,
   "id": "74e1cd98",
   "metadata": {},
   "outputs": [
    {
     "name": "stdout",
     "output_type": "stream",
     "text": [
      "班級總人數 26\n"
     ]
    }
   ],
   "source": [
    "to_do = list(student_score_data['總成績'])\n",
    "print(\"班級總人數\", len(student_score_data))"
   ]
  },
  {
   "cell_type": "code",
   "execution_count": 7,
   "id": "88a09568",
   "metadata": {},
   "outputs": [
    {
     "name": "stdout",
     "output_type": "stream",
     "text": [
      "      實作    考試   學習單  平時成績   總成績\n",
      "1    0.0   0.0   0.0   6.0   0.0\n",
      "2    0.0   6.0   0.0   8.0   2.0\n",
      "3    8.0   0.0   8.0   8.0   6.0\n",
      "4    9.0   8.0  10.0  10.0   9.0\n",
      "5    9.0   0.0  10.0   8.0   7.0\n",
      "6    0.0   0.0   0.0   6.0   0.0\n",
      "7    0.0   0.0   0.0   6.0   0.0\n",
      "8    0.0   8.0   6.0   8.0   4.0\n",
      "9   10.0   8.0   7.0  10.0   8.0\n",
      "10   9.0   0.0   0.0   8.0   3.0\n",
      "11   0.0   0.0   0.0   6.0   0.0\n",
      "12  10.0   0.0   0.0   8.0   4.0\n",
      "13  10.0   7.0   7.0  10.0   8.0\n",
      "14   9.0   8.0   9.0  10.0   9.0\n",
      "15   9.0   8.0  10.0  10.0   9.0\n",
      "16   0.0   0.0   0.0   6.0   0.0\n",
      "17   9.0   8.0   6.0  10.0   8.0\n",
      "18  10.0   8.0   9.0  10.0   9.0\n",
      "19  10.0   9.0   9.0  10.0   9.0\n",
      "20   9.0   9.0  10.0  10.0   9.0\n",
      "21  10.0   7.0   0.0   8.0   5.0\n",
      "22   9.0   8.0  10.0  10.0   9.0\n",
      "23  10.0   8.0  10.0  10.0   9.0\n",
      "24   0.0   8.0   8.0   8.0   5.0\n",
      "25  10.0   8.0   6.0  10.0   8.0\n",
      "26   9.0  10.0  10.0  10.0  10.0\n"
     ]
    }
   ],
   "source": [
    "#將分數轉成十等第留整數\n",
    "student_score_data[\"實作\"]=round(student_score_data[\"實作\"]/10,0)\n",
    "student_score_data[\"考試\"]=round(student_score_data[\"考試\"]/10,0)\n",
    "student_score_data[\"學習單\"]=round(student_score_data[\"學習單\"]/10,0)\n",
    "student_score_data[\"平時成績\"]=round(student_score_data[\"平時成績\"]/10,0)\n",
    "student_score_data[\"總成績\"]=round(student_score_data[\"總成績\"]/10,0)\n",
    "print(student_score_data)"
   ]
  },
  {
   "cell_type": "code",
   "execution_count": 9,
   "id": "6df8b1bc",
   "metadata": {},
   "outputs": [],
   "source": [
    "#print(s1&s2)#s1.intersection(s2)交集\n",
    "#print(s1|s2)#s1.union(s2) 聯集\n",
    "#print(s1-s2)#s1.difference(s2) 差集\n",
    "#print(s1^s2)#s1.symmetric_difference(s2) 對稱差集(聯集-交集)"
   ]
  },
  {
   "cell_type": "code",
   "execution_count": 20,
   "id": "53d94415",
   "metadata": {},
   "outputs": [
    {
     "name": "stdout",
     "output_type": "stream",
     "text": [
      "     總成績\n",
      "4    9.0\n",
      "9    8.0\n",
      "13   8.0\n",
      "14   9.0\n",
      "15   9.0\n",
      "17   8.0\n",
      "18   9.0\n",
      "19   9.0\n",
      "20   9.0\n",
      "22   9.0\n",
      "23   9.0\n",
      "25   8.0\n",
      "26  10.0\n"
     ]
    }
   ],
   "source": [
    "total_score_data=pd.DataFrame(student_score_data[\"總成績\"])\n",
    "#取總成績\n",
    "total_score_data_above6=pd.DataFrame(total_score_data[total_score_data[\"總成績\"]>=8])\n",
    "print(total_score_data_above6)\n",
    "#取總成績8分以上的人列印"
   ]
  },
  {
   "cell_type": "code",
   "execution_count": 21,
   "id": "6be7bbad",
   "metadata": {},
   "outputs": [
    {
     "name": "stdout",
     "output_type": "stream",
     "text": [
      "    平時成績\n",
      "2    8.0\n",
      "3    8.0\n",
      "4   10.0\n",
      "5    8.0\n",
      "8    8.0\n",
      "9   10.0\n",
      "10   8.0\n",
      "12   8.0\n",
      "13  10.0\n",
      "14  10.0\n",
      "15  10.0\n",
      "17  10.0\n",
      "18  10.0\n",
      "19  10.0\n",
      "20  10.0\n",
      "21   8.0\n",
      "22  10.0\n",
      "23  10.0\n",
      "24   8.0\n",
      "25  10.0\n",
      "26  10.0\n"
     ]
    }
   ],
   "source": [
    "class_score_data=pd.DataFrame(student_score_data[\"平時成績\"])\n",
    "#取平時成績\n",
    "class_score_data_above6=pd.DataFrame(class_score_data[class_score_data[\"平時成績\"]>=8])\n",
    "print(class_score_data_above6)\n",
    "#取平時成績8分以上的人列印"
   ]
  },
  {
   "cell_type": "code",
   "execution_count": 22,
   "id": "cc849258",
   "metadata": {},
   "outputs": [
    {
     "name": "stdout",
     "output_type": "stream",
     "text": [
      "{4, 9, 13, 14, 15, 17, 18, 19, 20, 22, 23, 25, 26}\n",
      "{2, 3, 4, 5, 8, 9, 10, 12, 13, 14, 15, 17, 18, 19, 20, 21, 22, 23, 24, 25, 26}\n"
     ]
    }
   ],
   "source": [
    "totalindex=set(total_score_data_above6.index)\n",
    "print(totalindex)\n",
    "classindex=set(class_score_data_above6.index)\n",
    "print(classindex)\n",
    "#取總成績/平時成績兩筆數據index\n",
    "#各列成一個list比較"
   ]
  },
  {
   "cell_type": "code",
   "execution_count": 24,
   "id": "61d05a15",
   "metadata": {},
   "outputs": [
    {
     "name": "stdout",
     "output_type": "stream",
     "text": [
      "{4, 9, 13, 14, 15, 17, 18, 19, 20, 22, 23, 25, 26}\n"
     ]
    }
   ],
   "source": [
    "print(totalindex & classindex)\n",
    "#總成績/平時成績皆為8分以上"
   ]
  },
  {
   "cell_type": "code",
   "execution_count": 25,
   "id": "317b1d98",
   "metadata": {},
   "outputs": [
    {
     "name": "stdout",
     "output_type": "stream",
     "text": [
      "{2, 3, 4, 5, 8, 9, 10, 12, 13, 14, 15, 17, 18, 19, 20, 21, 22, 23, 24, 25, 26}\n"
     ]
    }
   ],
   "source": [
    "print(totalindex | classindex)\n",
    "#總成績/平時成績至少一個8分以上"
   ]
  },
  {
   "cell_type": "code",
   "execution_count": 26,
   "id": "e789b60c",
   "metadata": {},
   "outputs": [
    {
     "name": "stdout",
     "output_type": "stream",
     "text": [
      "set()\n"
     ]
    }
   ],
   "source": [
    "print(totalindex - classindex)\n",
    "#只有總成績8分以上"
   ]
  },
  {
   "cell_type": "code",
   "execution_count": 27,
   "id": "bb7ad665",
   "metadata": {},
   "outputs": [
    {
     "name": "stdout",
     "output_type": "stream",
     "text": [
      "{2, 3, 5, 8, 10, 12, 21, 24}\n"
     ]
    }
   ],
   "source": [
    "print(classindex - totalindex)\n",
    "#只有平時成績8分以上"
   ]
  },
  {
   "cell_type": "code",
   "execution_count": 28,
   "id": "7dfce884",
   "metadata": {},
   "outputs": [
    {
     "name": "stdout",
     "output_type": "stream",
     "text": [
      "{2, 3, 5, 8, 10, 12, 21, 24}\n"
     ]
    }
   ],
   "source": [
    "print(totalindex ^ classindex)\n",
    "#只有其中一項8分以上"
   ]
  },
  {
   "cell_type": "code",
   "execution_count": null,
   "id": "fbd17aa7",
   "metadata": {},
   "outputs": [],
   "source": []
  }
 ],
 "metadata": {
  "kernelspec": {
   "display_name": "Python 3 (ipykernel)",
   "language": "python",
   "name": "python3"
  },
  "language_info": {
   "codemirror_mode": {
    "name": "ipython",
    "version": 3
   },
   "file_extension": ".py",
   "mimetype": "text/x-python",
   "name": "python",
   "nbconvert_exporter": "python",
   "pygments_lexer": "ipython3",
   "version": "3.9.13"
  }
 },
 "nbformat": 4,
 "nbformat_minor": 5
}
